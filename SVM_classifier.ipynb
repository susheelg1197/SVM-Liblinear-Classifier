{
 "cells": [
  {
   "cell_type": "markdown",
   "id": "38070727",
   "metadata": {},
   "source": [
    "## Problem 3 - Programming\n"
   ]
  },
  {
   "cell_type": "code",
   "execution_count": 4,
   "id": "e1466ccf",
   "metadata": {},
   "outputs": [],
   "source": [
    "#Install the required packages \n",
    "# Kindly uncomment the line to install the required packages\n",
    "\n",
    "# !pip install -U liblinear-official\n",
    "# !pip install sklearn\n",
    "# !pip install -U libsvm-official\n"
   ]
  },
  {
   "cell_type": "code",
   "execution_count": 8,
   "id": "b23fc250",
   "metadata": {},
   "outputs": [
    {
     "name": "stdout",
     "output_type": "stream",
     "text": [
      "Labels  [1. 1. 2. ... 1. 1. 1.]\n",
      "Tuples    (0, 0)\t2596.0\n",
      "  (0, 1)\t51.0\n",
      "  (0, 2)\t3.0\n",
      "  (0, 3)\t258.0\n",
      "  (0, 5)\t510.0\n",
      "  (0, 6)\t221.0\n",
      "  (0, 7)\t232.0\n",
      "  (0, 8)\t148.0\n",
      "  (0, 9)\t6279.0\n",
      "  (0, 10)\t1.0\n",
      "  (0, 42)\t1.0\n",
      "  (1, 0)\t2590.0\n",
      "  (1, 1)\t56.0\n",
      "  (1, 2)\t2.0\n",
      "  (1, 3)\t212.0\n",
      "  (1, 4)\t-6.0\n",
      "  (1, 5)\t390.0\n",
      "  (1, 6)\t220.0\n",
      "  (1, 7)\t235.0\n",
      "  (1, 8)\t151.0\n",
      "  (1, 9)\t6225.0\n",
      "  (1, 10)\t1.0\n",
      "  (1, 42)\t1.0\n",
      "  (2, 0)\t2804.0\n",
      "  (2, 1)\t139.0\n",
      "  :\t:\n",
      "  (581009, 15)\t1.0\n",
      "  (581010, 0)\t2384.0\n",
      "  (581010, 1)\t170.0\n",
      "  (581010, 2)\t15.0\n",
      "  (581010, 3)\t60.0\n",
      "  (581010, 4)\t5.0\n",
      "  (581010, 5)\t90.0\n",
      "  (581010, 6)\t230.0\n",
      "  (581010, 7)\t245.0\n",
      "  (581010, 8)\t143.0\n",
      "  (581010, 9)\t864.0\n",
      "  (581010, 12)\t1.0\n",
      "  (581010, 15)\t1.0\n",
      "  (581011, 0)\t2383.0\n",
      "  (581011, 1)\t165.0\n",
      "  (581011, 2)\t13.0\n",
      "  (581011, 3)\t60.0\n",
      "  (581011, 4)\t4.0\n",
      "  (581011, 5)\t67.0\n",
      "  (581011, 6)\t231.0\n",
      "  (581011, 7)\t244.0\n",
      "  (581011, 8)\t141.0\n",
      "  (581011, 9)\t875.0\n",
      "  (581011, 12)\t1.0\n",
      "  (581011, 15)\t1.0\n"
     ]
    }
   ],
   "source": [
    "#• Download ‘covtype.binary’ (6.7M) from libsvm official site:\n",
    "# https://www.csie.ntu.edu.tw/~cjlin/libsvmtools/datasets/\n",
    "\n",
    "from libsvm.svmutil import *\n",
    "from scipy.sparse import csr_matrix\n",
    "\n",
    "y, x = svm_read_problem('covtype.libsvm.binary', return_scipy=True)\n",
    "print(\"Labels \", y)  # first column is binary labels\n",
    "print(\"Sparse Matrix \",x)  # attributes as sparse matrix (category:value)"
   ]
  },
  {
   "cell_type": "code",
   "execution_count": 11,
   "id": "6ca9c906",
   "metadata": {},
   "outputs": [
    {
     "name": "stdout",
     "output_type": "stream",
     "text": [
      "  (0, 0)\t-363.3653005424626\n",
      "  (0, 1)\t-104.65680743259855\n",
      "  (0, 2)\t-11.103703537969166\n",
      "  (0, 3)\t-11.42821662915793\n",
      "  (0, 4)\t-46.41885537648962\n",
      "  (0, 5)\t-1840.1466114303612\n",
      "  (0, 6)\t8.853951381548342\n",
      "  (0, 7)\t8.68128369135971\n",
      "  (0, 8)\t5.4717372446800425\n",
      "  (0, 9)\t4298.708773657003\n",
      "  (0, 10)\t0.5511349163176812\n",
      "  (0, 11)\t-0.05143439378184634\n",
      "  (0, 12)\t-0.4360736094958727\n",
      "  (0, 13)\t-0.06362691304132598\n",
      "  (0, 14)\t-0.005216759722691003\n",
      "  (0, 15)\t-0.01295153972723526\n",
      "  (0, 16)\t-0.008301033369362856\n",
      "  (0, 17)\t-0.021335187569276888\n",
      "  (0, 18)\t-0.0027486523514145315\n",
      "  (0, 19)\t-0.011316461622135784\n",
      "  (0, 20)\t-0.00018071915898466777\n",
      "  (0, 21)\t-0.0003080831376976716\n",
      "  (0, 22)\t-0.001974141670051622\n",
      "  (0, 23)\t-0.05616751461238791\n",
      "  (0, 24)\t-0.021359283457141512\n",
      "  :\t:\n",
      "  (581011, 29)\t-0.004896628641061\n",
      "  (581011, 30)\t-0.005889723448052998\n",
      "  (581011, 31)\t-0.0032684350753514175\n",
      "  (581011, 32)\t-0.006920683221689404\n",
      "  (581011, 33)\t-0.01593598755275367\n",
      "  (581011, 34)\t-0.0014423110021824239\n",
      "  (581011, 35)\t-0.057439433264667994\n",
      "  (581011, 36)\t-0.09939897971127967\n",
      "  (581011, 37)\t-0.03662230728452242\n",
      "  (581011, 38)\t-0.0008158179177022137\n",
      "  (581011, 39)\t-0.0044560181201078785\n",
      "  (581011, 40)\t-0.0018691524443557607\n",
      "  (581011, 41)\t-0.0016281935657095222\n",
      "  (581011, 42)\t-0.1983556277669469\n",
      "  (581011, 43)\t-0.05192663834822266\n",
      "  (581011, 44)\t-0.0441746469952193\n",
      "  (581011, 45)\t-0.09039228105443461\n",
      "  (581011, 46)\t-0.07771612290276944\n",
      "  (581011, 47)\t-0.0027727482392791553\n",
      "  (581011, 48)\t-0.0032546659965716324\n",
      "  (581011, 49)\t-0.0002048150468492901\n",
      "  (581011, 50)\t-0.0005128981845469615\n",
      "  (581011, 51)\t-0.02680323297969903\n",
      "  (581011, 52)\t-0.023761987704214005\n",
      "  (581011, 53)\t-0.015059929915389847\n"
     ]
    }
   ],
   "source": [
    "# Pre-proprocess the data by subtracting mean and scale them in [-1,1].\n",
    "\n",
    "# Step 1 subtract mean from data point\n",
    "x_mean_sub = csr_matrix(x-x.mean(axis=0))\n",
    "print(x_mean_sub) #prints sparse matrix"
   ]
  },
  {
   "cell_type": "code",
   "execution_count": 14,
   "id": "9f89b676",
   "metadata": {},
   "outputs": [
    {
     "name": "stdout",
     "output_type": "stream",
     "text": [
      "  (0, 0)\t-0.262631315657829\n",
      "  (0, 1)\t-0.7166666666666667\n",
      "  (0, 2)\t-0.909090909090909\n",
      "  (0, 3)\t-0.6306370794559771\n",
      "  (0, 4)\t-0.5529715762273902\n",
      "  (0, 5)\t-0.8566811858929324\n",
      "  (0, 6)\t0.7401574803149606\n",
      "  (0, 7)\t0.8267716535433071\n",
      "  (0, 8)\t0.16535433070866148\n",
      "  (0, 9)\t0.7507319113341698\n",
      "  (0, 10)\t1.0\n",
      "  (0, 11)\t-1.0\n",
      "  (0, 12)\t-1.0\n",
      "  (0, 13)\t-1.0\n",
      "  (0, 14)\t-1.0\n",
      "  (0, 15)\t-1.0\n",
      "  (0, 16)\t-1.0\n",
      "  (0, 17)\t-1.0\n",
      "  (0, 18)\t-1.0\n",
      "  (0, 19)\t-1.0\n",
      "  (0, 20)\t-1.0\n",
      "  (0, 21)\t-1.0\n",
      "  (0, 22)\t-1.0\n",
      "  (0, 23)\t-1.0\n",
      "  (0, 24)\t-1.0\n",
      "  :\t:\n",
      "  (581011, 29)\t-1.0\n",
      "  (581011, 30)\t-1.0\n",
      "  (581011, 31)\t-1.0\n",
      "  (581011, 32)\t-1.0\n",
      "  (581011, 33)\t-1.0\n",
      "  (581011, 34)\t-1.0\n",
      "  (581011, 35)\t-1.0\n",
      "  (581011, 36)\t-1.0\n",
      "  (581011, 37)\t-1.0\n",
      "  (581011, 38)\t-1.0\n",
      "  (581011, 39)\t-1.0\n",
      "  (581011, 40)\t-1.0\n",
      "  (581011, 41)\t-1.0\n",
      "  (581011, 42)\t-1.0\n",
      "  (581011, 43)\t-1.0\n",
      "  (581011, 44)\t-1.0\n",
      "  (581011, 45)\t-1.0\n",
      "  (581011, 46)\t-1.0\n",
      "  (581011, 47)\t-1.0\n",
      "  (581011, 48)\t-1.0\n",
      "  (581011, 49)\t-1.0\n",
      "  (581011, 50)\t-1.0\n",
      "  (581011, 51)\t-1.0\n",
      "  (581011, 52)\t-1.0\n",
      "  (581011, 53)\t-1.0\n"
     ]
    }
   ],
   "source": [
    "# Normalize the Sparse matrix in range [-1,1]\n",
    "normalizer = csr_find_scale_param(x_mean_sub, lower=-1, upper=1) # find scaling parameter for data in csr format.\n",
    "normed_x = csr_scale(x_mean_sub, normalizer)\n",
    "\n",
    "print(normed_x) # x after normalizing between range"
   ]
  },
  {
   "cell_type": "code",
   "execution_count": 47,
   "id": "a149abf9",
   "metadata": {},
   "outputs": [
    {
     "name": "stdout",
     "output_type": "stream",
     "text": [
      "log2c= -19.00\trate=85.38\n",
      "log2c= -18.00\trate=85.38\n",
      "log2c= -17.00\trate=85.38\n",
      "log2c= -16.00\trate=85.38\n",
      "log2c= -15.00\trate=85.38\n",
      "log2c= -14.00\trate=85.38\n",
      "log2c= -13.00\trate=85.38\n",
      "log2c= -12.00\trate=85.38\n",
      "log2c= -11.00\trate=85.38\n",
      "log2c= -10.00\trate=85.38\n",
      "log2c=  -9.00\trate=85.38\n",
      "log2c=  -8.00\trate=85.74\n",
      "log2c=  -7.00\trate=86.95\n",
      "log2c=  -6.00\trate=87.13\n",
      "log2c=  -5.00\trate=87.22\n",
      "log2c=  -4.00\trate=87.27\n",
      "log2c=  -3.00\trate=87.29\n",
      "log2c=  -2.00\trate=87.31\n",
      "log2c=  -1.00\trate=87.39\n",
      "log2c=   0.00\trate=87.45\n",
      "log2c=   1.00\trate=87.45\n",
      "log2c=   2.00\trate=87.52\n",
      "log2c=   3.00\trate=87.52\n",
      "log2c=   4.00\trate=87.52\n",
      "log2c=   5.00\trate=87.52\n",
      "log2c=   6.00\trate=87.52\n",
      "Best C = 4  CV accuracy = 87.52%\n",
      "log2c=   7.00\trate=87.52\n",
      "\n",
      "init f 6.931e+03 |g| 2.253e+04\n",
      "iter  1 f 3.772e+03 |g| 4.035e+03 CG   2 step_size 1.00e+00 \n",
      "iter  2 f 2.989e+03 |g| 2.000e+03 CG   4 step_size 1.00e+00 \n",
      "iter  3 f 2.749e+03 |g| 6.461e+02 CG   5 step_size 1.00e+00 \n",
      "iter  4 f 2.685e+03 |g| 2.151e+02 CG   7 step_size 1.00e+00 \n",
      "iter  5 f 2.668e+03 |g| 5.311e+01 CG   9 step_size 1.00e+00 \n",
      "\n",
      "\n",
      " Time: iter  6 f 2.664e+03 |g| 3.249e+01 CG   9 step_size 1.00e+00 \n",
      " 0:00:01.439220\n"
     ]
    }
   ],
   "source": [
    "# Use Liblinear, apply SVM (primal), SVM (dual) (-s 0,1 and 2) and compare results and\n",
    "# running time.\n",
    "\n",
    "from datetime import datetime\n",
    "stime =datetime.now() # start time \n",
    "\n",
    "from liblinear.liblinearutil import *\n",
    "n = 10000 #number of samples to take for training\n",
    "# train 10000 samples for solver type L2-regularized logistic regression (primal)\n",
    "cs0=train(y[:n], normed_x[:n], '-C -s 0') \n",
    "m0=train(y[:n],normed_x[:n], '-s 0'.format(cs0))\n",
    "\n",
    "time_elapsed = (datetime.now()-stime)\n",
    "print(\"\\n\\n Time: \",time_elapsed)"
   ]
  },
  {
   "cell_type": "code",
   "execution_count": 42,
   "id": "1614f6a2",
   "metadata": {},
   "outputs": [
    {
     "name": "stdout",
     "output_type": "stream",
     "text": [
      "Accuracy = 87.7% (8770/10000) (classification)\n"
     ]
    }
   ],
   "source": [
    "# Predict labels \n",
    "pred_label0, pred_a0, pred_v0 = predict(y[:n],normed_x[:n], m0)\n"
   ]
  },
  {
   "cell_type": "code",
   "execution_count": 48,
   "id": "a0936191",
   "metadata": {},
   "outputs": [
    {
     "name": "stdout",
     "output_type": "stream",
     "text": [
      "..............................\n",
      "optimization finished, #iter = 300\n",
      "Objective value = -3427.594385\n",
      "nSV = 5657\n",
      "\n",
      "WARNING: reaching max number of iterations\n",
      "Switching to use -s 2\n",
      "\n",
      "init f 3.445e+03 |g| 3.060e+03\n",
      "iter  1 f 3.434e+03 |g| 1.003e+02 CG   2 step_size 1.00e+00 \n",
      "..............................\n",
      "optimization finished, #iter = 300\n",
      "Objective value = -3427.550312\n",
      "nSV = 5651\n",
      "\n",
      "WARNING: reaching max number of iterations\n",
      "Switching to use -s 2\n",
      "\n",
      "init f 3.436e+03 |g| 4.652e+02\n",
      "iter  1 f 3.434e+03 |g| 1.654e+01 CG   4 step_size 1.00e+00 \n",
      "\n",
      "\n",
      " Time:  0:00:08.527720\n"
     ]
    }
   ],
   "source": [
    "# train 10000 samples for solver type L2-regularized L2-loss support vector classification (dual)\n",
    "cs1=train(y[:n], normed_x[:n], '-s 1') \n",
    "m1=train(y[:n],normed_x[:n], '-s 1'.format(cs1))\n",
    "\n",
    "time_elapsed = (datetime.now()-stime)\n",
    "print(\"\\n\\n Time: \",time_elapsed)"
   ]
  },
  {
   "cell_type": "code",
   "execution_count": 45,
   "id": "430e1648",
   "metadata": {},
   "outputs": [
    {
     "name": "stdout",
     "output_type": "stream",
     "text": [
      "Accuracy = 87.56% (8756/10000) (classification)\n"
     ]
    }
   ],
   "source": [
    "# Predict labels \n",
    "pred_label1, pred_a1, pred_v1 = predict(y[:n],normed_x[:n], m1)"
   ]
  },
  {
   "cell_type": "code",
   "execution_count": 49,
   "id": "7516b3a4",
   "metadata": {},
   "outputs": [
    {
     "name": "stdout",
     "output_type": "stream",
     "text": [
      "log2c= -20.00\trate=85.38\n",
      "log2c= -19.00\trate=85.38\n",
      "log2c= -18.00\trate=85.38\n",
      "log2c= -17.00\trate=85.38\n",
      "log2c= -16.00\trate=85.38\n",
      "log2c= -15.00\trate=85.38\n",
      "log2c= -14.00\trate=85.38\n",
      "log2c= -13.00\trate=85.38\n",
      "log2c= -12.00\trate=85.38\n",
      "log2c= -11.00\trate=86.06\n",
      "log2c= -10.00\trate=86.93\n",
      "log2c=  -9.00\trate=87.14\n",
      "log2c=  -8.00\trate=87.07\n",
      "log2c=  -7.00\trate=87.21\n",
      "log2c=  -6.00\trate=87.44\n",
      "log2c=  -5.00\trate=87.44\n",
      "log2c=  -4.00\trate=87.44\n",
      "log2c=  -3.00\trate=87.44\n",
      "log2c=  -2.00\trate=87.44\n",
      "log2c=  -1.00\trate=87.44\n",
      "Best C = 0.015625  CV accuracy = 87.44%\n",
      "log2c=   0.00\trate=87.44\n",
      "\n",
      "init f 1.000e+04 |g| 9.012e+04\n",
      "iter  1 f 4.309e+03 |g| 2.605e+03 CG   2 step_size 1.00e+00 \n",
      "iter  2 f 3.584e+03 |g| 2.775e+03 CG   4 step_size 1.00e+00 \n",
      "iter  3 f 3.476e+03 |g| 1.012e+03 CG   5 step_size 1.00e+00 \n",
      "iter  4 f 3.446e+03 |g| 2.684e+02 CG   9 step_size 1.00e+00 \n",
      "iter  5 f 3.438e+03 |g| 2.577e+02 CG   9 step_size 1.00e+00 \n",
      "iter  6 f 3.436e+03 |g| 1.824e+02 CG   9 step_size 1.00e+00 \n",
      "iter  7 f 3.436e+03 |g| 2.679e+01 CG   3 step_size 1.00e+00 \n",
      "\n",
      "\n",
      " Time:  0:00:19.683372\n"
     ]
    }
   ],
   "source": [
    "# train 10000 samples for solver type L2-regularized L2-loss support vector classification (primal)\n",
    "cs2=train(y[:n], normed_x[:n], '-C -s 2') \n",
    "m2=train(y[:n],normed_x[:n], '-s 2'.format(cs2))\n",
    "\n",
    "time_elapsed = (datetime.now()-stime)\n",
    "print(\"\\n\\n Time: \",time_elapsed)"
   ]
  },
  {
   "cell_type": "code",
   "execution_count": 51,
   "id": "9e3a8cba",
   "metadata": {},
   "outputs": [
    {
     "name": "stdout",
     "output_type": "stream",
     "text": [
      "Accuracy = 87.55% (8755/10000) (classification)\n"
     ]
    }
   ],
   "source": [
    "# Predict labels \n",
    "pred_label2, pred_a2, pred_v2 = predict(y[:n],normed_x[:n], m2)"
   ]
  },
  {
   "cell_type": "code",
   "execution_count": 55,
   "id": "a4bf832f",
   "metadata": {},
   "outputs": [
    {
     "name": "stdout",
     "output_type": "stream",
     "text": [
      "..\n",
      "WARNING: using -h 0 may be faster\n",
      "*\n",
      "optimization finished, #iter = 2973\n",
      "nu = 0.268378\n",
      "obj = -2635.919411, rho = -0.808814\n",
      "nSV = 2759, nBSV = 2618\n",
      "Total nSV = 2759\n"
     ]
    }
   ],
   "source": [
    "# • Use Libsvm, apply kernel methods, see if the accuracy can beat linear SVMs.\n",
    "\n",
    "sv_p = svm_problem(y[:n], normed_x[:n], isKernel=True)\n",
    "sv_param = svm_parameter('-s 0')\n",
    "mkernel0 = svm_train(sv_p, sv_param)\n"
   ]
  },
  {
   "cell_type": "code",
   "execution_count": 58,
   "id": "00e72a93",
   "metadata": {},
   "outputs": [
    {
     "name": "stdout",
     "output_type": "stream",
     "text": [
      "Accuracy = 83.59% (8359/10000) (classification)\n"
     ]
    }
   ],
   "source": [
    "pred_label_k_0, pred_a_k_0, pred_v_k_0 = svm_predict(y[:n],normed_x[:n], mkernel0)\n",
    "\n",
    "#Below accuracy shows that use of kernel doesnt improve accuracy"
   ]
  },
  {
   "cell_type": "code",
   "execution_count": 63,
   "id": "96d12f66",
   "metadata": {},
   "outputs": [
    {
     "name": "stderr",
     "output_type": "stream",
     "text": [
      "/Users/susheelgounder/opt/anaconda3/lib/python3.9/site-packages/sklearn/utils/validation.py:593: FutureWarning: np.matrix usage is deprecated in 1.0 and will raise a TypeError in 1.2. Please convert to a numpy array with np.asarray. For more information see: https://numpy.org/doc/stable/reference/generated/numpy.matrix.html\n",
      "  warnings.warn(\n"
     ]
    },
    {
     "name": "stdout",
     "output_type": "stream",
     "text": [
      "[[ 1.16162549e-02 -6.17618461e-02 -3.14347287e-02 -2.21202815e-02\n",
      "  -1.84916902e-02  1.24981231e-01  2.69898650e-02 -9.18069626e-04\n",
      "  -2.64035302e-02  9.65927088e-02  6.46466005e-01 -1.25574794e-02\n",
      "  -6.13183611e-01 -2.07249150e-02 -1.40210647e-03 -1.34657395e-02\n",
      "  -6.62064806e-03 -2.69763602e-02 -7.92137298e-04 -2.95651379e-03\n",
      "   2.23463699e-04  3.77199294e-04  2.01491699e-03 -4.68701557e-02\n",
      "  -2.75209870e-02  6.47815767e-02 -4.15175309e-02 -7.28150890e-04\n",
      "  -1.20423335e-06  3.40261824e-03 -6.24579861e-03  3.50964414e-03\n",
      "   3.88924460e-03  8.41926831e-03 -1.92508944e-03  1.90539755e-02\n",
      "   5.92793679e-03 -3.35132132e-02 -1.30361371e-04 -5.59274112e-03\n",
      "  -2.41700821e-03 -2.27071513e-03  3.52317792e-01  6.34299351e-02\n",
      "  -6.12991596e-02 -1.32055400e-01 -1.11469715e-01 -3.62217091e-03\n",
      "  -4.43756473e-04 -2.62361824e-04  3.29797660e-04  8.49698952e-04\n",
      "  -1.00668674e-03  2.57864343e-03]\n",
      " [-1.65096160e-01  1.25364179e-01  4.67235843e-02 -7.52278662e-02\n",
      "  -6.87970768e-03 -2.02894151e-01 -5.26508339e-02 -2.34125265e-02\n",
      "   2.70284945e-02 -9.08613688e-02 -1.58077769e-01  1.89494137e-01\n",
      "  -4.79138032e-01  4.47721664e-01  3.25399592e-02  1.72644882e-02\n",
      "   2.44172199e-02  1.26270613e-03  1.71511485e-02  7.11832815e-02\n",
      "   4.44184456e-05  1.08787449e-04  3.08236254e-03  2.72108425e-01\n",
      "  -1.33501142e-02  6.47285548e-02 -2.50614628e-02  3.74462705e-03\n",
      "   3.05425091e-05  6.69884971e-03  5.31893385e-03  4.22002268e-03\n",
      "   5.28779156e-03  5.41176685e-03 -9.25028452e-04  7.37403503e-02\n",
      "   1.72559856e-01 -1.27115662e-02  2.72760017e-03 -5.31414595e-03\n",
      "  -2.27599751e-03 -5.85022535e-04 -4.85876240e-01  7.36594236e-02\n",
      "  -5.87390467e-02 -1.59416604e-01 -1.10667927e-01 -3.16547678e-03\n",
      "   1.72194691e-03 -3.12239773e-04 -5.29186906e-05  7.08472197e-03\n",
      "   1.54491477e-03  1.08110912e-02]\n",
      " [-1.46818608e-01  3.24966989e-01  9.85504128e-02  1.21908937e-02\n",
      "   3.20072907e-02 -6.96628050e-02 -1.14095475e-01 -1.92680580e-02\n",
      "   9.63409074e-02 -9.96337706e-02 -2.23098692e-01 -5.58661661e-02\n",
      "  -6.25012944e-02  3.41466153e-01  2.11119276e-02  1.70159102e-02\n",
      "   1.84762537e-02  1.80025677e-02  1.19831676e-02  4.75369152e-02\n",
      "  -4.23424724e-04 -6.69548464e-04 -3.01225763e-03  2.59941170e-01\n",
      "  -3.79436651e-03 -1.69450553e-01  1.81639470e-02  2.86599446e-03\n",
      "   1.56539917e-05 -4.06691986e-03  5.73854970e-03 -6.32915287e-03\n",
      "  -9.85155640e-03 -2.72974608e-02  9.86680551e-04 -1.02309223e-01\n",
      "  -4.32487740e-01 -7.31254680e-03 -4.36337604e-04 -1.61139201e-03\n",
      "   1.46693339e-04  2.14950160e-03  5.72351252e-01 -1.49439476e-01\n",
      "  -4.77903375e-03 -2.64169400e-04  9.51005421e-03  3.43807895e-04\n",
      "  -4.15273107e-03 -3.89007224e-05 -1.22910860e-03 -3.27841366e-02\n",
      "  -2.61804322e-02 -1.84195789e-02]\n",
      " [-1.42324473e-01 -7.92783908e-01  6.17605477e-02 -1.91787279e-02\n",
      "   5.61923394e-03 -1.60038785e-01  1.55700381e-01 -1.17550967e-01\n",
      "  -3.19251952e-01 -1.42055867e-02 -7.11704061e-02 -1.00212970e-01\n",
      "   7.85515789e-04  1.70597861e-01  1.89279915e-02  2.18547354e-02\n",
      "   2.07597792e-02  1.96818725e-02  7.11990189e-03  2.97910920e-02\n",
      "  -1.04615614e-05 -1.49667610e-04  2.96102991e-03  1.46442764e-01\n",
      "   5.05773402e-02  3.98942256e-02 -1.25218864e-02  1.46850350e-03\n",
      "   2.99637525e-05 -1.82203215e-03  6.71259997e-03  4.72169408e-03\n",
      "  -4.17159799e-03  5.76987225e-03 -2.85619574e-03 -6.68745995e-02\n",
      "  -2.86196484e-01 -2.76760238e-03  4.33667784e-04  3.35921719e-03\n",
      "  -6.87519643e-04 -2.60955301e-03  3.82737909e-02  2.29692607e-02\n",
      "   1.88080858e-02 -1.16051551e-01  7.41342115e-02 -1.04197688e-03\n",
      "   2.29463581e-03 -9.72075659e-05  9.99645751e-04 -2.66346527e-02\n",
      "  -8.32176400e-03 -5.17112932e-03]\n",
      " [ 7.92808314e-03 -1.51701946e-01 -1.53256143e-02 -6.40133684e-02\n",
      "  -3.24773162e-02 -8.73617840e-02  2.49466730e-02 -1.54525439e-02\n",
      "  -4.17853809e-02 -7.16246870e-02 -1.75525047e-01  1.48279519e-01\n",
      "   1.52109130e-02  1.20346148e-02  2.43916408e-03  3.97465843e-03\n",
      "   3.23523108e-03  3.31499924e-03  5.55390513e-04  2.66902579e-03\n",
      "  -4.70264547e-04 -8.06639259e-04 -2.96046209e-03  1.30757798e-02\n",
      "   1.20033515e-02 -2.67864893e-01 -4.08915875e-03  3.12897906e-04\n",
      "   6.05233798e-06 -9.00452118e-03  1.59929123e-03 -6.03420124e-03\n",
      "  -1.00307012e-02 -3.05158611e-02 -3.33856531e-04 -1.73262624e-01\n",
      "   7.10213159e-01 -1.35834467e-02  1.36091559e-03 -1.93549709e-05\n",
      "  -6.77607564e-04 -7.76419585e-04  3.66912609e-01 -2.64210736e-01\n",
      "   4.68633609e-03 -2.93309798e-01  4.14978968e-02 -7.36013856e-04\n",
      "  -2.60983713e-04 -7.77930568e-05 -6.38531952e-04 -3.84367208e-02\n",
      "  -3.39885164e-02 -1.57676525e-02]\n",
      " [ 4.28156446e-02 -1.72826520e-01 -1.03902879e-01  1.48660942e-02\n",
      "  -2.62612043e-02 -8.38629570e-02  6.43751031e-02  2.00017412e-02\n",
      "  -3.37238301e-02 -2.38084885e-02 -1.04987042e-01  1.71964472e-01\n",
      "  -1.11821084e-01  4.48436542e-02  5.75586102e-03 -1.13532404e-03\n",
      "   1.46044963e-03 -1.98424861e-02  2.18091131e-03  1.42867607e-02\n",
      "  -1.25475891e-04 -2.39773223e-04 -1.46381266e-04 -1.02998280e-02\n",
      "  -6.55072487e-03 -6.42186739e-02 -4.83217098e-02  2.33845119e-04\n",
      "   9.51083129e-06 -3.14259592e-03 -1.40931226e-03 -3.11257045e-04\n",
      "  -1.46467002e-03 -1.20347904e-02 -1.68532687e-03 -3.61288166e-02\n",
      "   9.75078981e-02 -3.57046170e-02  2.42680696e-03 -2.89390962e-03\n",
      "  -1.95354645e-03 -2.61445216e-03  1.06090486e-01 -9.09853866e-02\n",
      "  -5.65191440e-02  7.40851712e-01 -5.44576511e-01 -2.38099250e-03\n",
      "   2.06052660e-03 -1.57699396e-04 -8.61008737e-05 -1.14526061e-02\n",
      "  -1.94078634e-02  2.92520676e-03]\n",
      " [ 2.01666575e-01 -6.01162345e-02  9.24182788e-03  1.12743053e-01\n",
      "   3.25504277e-02 -8.67186280e-02  2.98963943e-02 -7.53843705e-03\n",
      "  -4.35799514e-02  5.40211724e-02 -2.12571393e-01  6.11551971e-01\n",
      "  -2.63738922e-01 -1.35241657e-01 -2.44836288e-03 -2.02679047e-02\n",
      "  -9.40731629e-03 -4.62151001e-02 -1.48895738e-03 -2.55121073e-03\n",
      "  -1.12062873e-04 -2.46199908e-04 -1.92631554e-03 -2.41409426e-01\n",
      "  -3.91984337e-02 -9.74388556e-02 -6.45575290e-02 -1.52519105e-03\n",
      "  -2.47455194e-06 -3.53535504e-03 -9.92078717e-03 -6.31785551e-04\n",
      "   5.84360906e-03 -1.95415691e-02 -2.44867162e-03  2.96508057e-01\n",
      "  -2.12637793e-01  1.06344877e-02  9.71559574e-03 -5.89756159e-03\n",
      "  -1.35819094e-03 -2.62019160e-03  6.64644726e-02 -1.08250258e-01\n",
      "  -9.49580939e-02  6.35136764e-02  4.20999631e-01 -2.99315825e-03\n",
      "   9.59579531e-03 -8.01256642e-05 -9.33530115e-06  4.16651326e-02\n",
      "   1.35658540e-02  5.51719059e-02]\n",
      " [ 6.24740154e-02 -4.69599574e-02 -1.65118261e-02 -4.17208585e-02\n",
      "  -2.72745265e-02  4.06310544e-02  4.54550357e-04  3.11108585e-03\n",
      "   8.23316133e-03 -5.86554877e-02 -5.94753788e-02  7.91130395e-02\n",
      "   8.19133249e-02 -1.01550986e-01 -8.30398645e-03  1.37684287e-02\n",
      "   1.06266126e-03  4.69640010e-02 -4.51347731e-03 -1.94814667e-02\n",
      "  -8.52557982e-05 -1.30493256e-04 -8.15247070e-04 -1.28612094e-02\n",
      "   5.45709316e-02 -1.64309686e-01  1.04746080e-01 -1.22475044e-04\n",
      "  -5.83313756e-06 -1.39941423e-03  7.10624537e-03 -2.85478971e-03\n",
      "   4.84165880e-03  4.67816015e-03  2.92773166e-03  5.70896598e-01\n",
      "  -1.46080544e-01  1.37711845e-01  1.26557954e-03  8.83525313e-03\n",
      "   3.40748103e-03  2.40274568e-03  2.86973019e-02 -1.19421447e-01\n",
      "   2.98115198e-01 -3.72380821e-01 -5.49777940e-01  5.38539110e-03\n",
      "   4.81851883e-03  4.12355285e-04  3.26528602e-04  4.66511476e-02\n",
      "   3.69162689e-02  1.60359759e-02]\n",
      " [-4.01064412e-02 -1.05901440e-03 -9.94685598e-02  7.01600938e-02\n",
      "   2.14971392e-03 -1.83335091e-03 -1.82991981e-02  3.59284971e-02\n",
      "   8.11727163e-02  2.43432542e-01 -7.03730356e-02  8.62559148e-02\n",
      "  -1.19085681e-02 -3.97431113e-03 -2.20242435e-03  4.69124823e-03\n",
      "  -3.06976283e-03  3.82250706e-03 -4.31729461e-04  3.47561886e-03\n",
      "   2.90067412e-04  4.26968434e-04 -2.16200224e-03 -5.67407630e-03\n",
      "   1.31010903e-02  6.89498888e-01  5.95983694e-03 -4.94663064e-05\n",
      "  -1.78645101e-06  4.26795478e-03  3.59711867e-03  4.68490929e-03\n",
      "   2.35316025e-03  1.17428943e-02  3.00875954e-04 -1.39514809e-01\n",
      "  -3.93483049e-02  6.43684146e-02  2.51331852e-03  4.99765347e-03\n",
      "   9.98424551e-04  8.07078424e-04  1.02555026e-02 -6.12130770e-01\n",
      "   1.15236104e-01 -9.28491876e-02 -7.37497457e-02  1.32025000e-03\n",
      "   1.89026503e-03  6.61979994e-05 -3.44091900e-04  1.21788626e-02\n",
      "  -2.72863750e-03  1.14115842e-02]\n",
      " [ 4.01604120e-02  5.74094778e-02  3.60324344e-02  8.88497023e-02\n",
      "   3.52692473e-02 -1.12553105e-01  9.37588185e-03 -3.63525725e-03\n",
      "  -2.20822500e-02  7.99054947e-02 -1.17451445e-01  3.07921258e-01\n",
      "  -7.58910993e-02 -1.14578714e-01 -1.39602998e-04  7.52648344e-03\n",
      "   4.35382269e-03  3.08796610e-02  3.02184860e-04  3.52294737e-04\n",
      "  -7.53551413e-05 -1.64418646e-04 -7.65812221e-04 -1.99304316e-01\n",
      "   2.18768898e-02  3.56163046e-03  7.69228707e-02 -6.71362833e-05\n",
      "  -3.63169408e-06  5.74929414e-04  2.04525425e-03  2.17341777e-03\n",
      "   5.83614738e-03 -5.89197336e-03  1.03238748e-03 -5.96481917e-01\n",
      "  -1.32069317e-01  2.12140754e-01  8.01395693e-03  3.71192125e-03\n",
      "   2.64770188e-03  2.35964774e-03  1.77313028e-02  3.87675816e-01\n",
      "   3.57703909e-01 -1.78238702e-01 -2.25605799e-01  2.87657381e-03\n",
      "   8.76603513e-03  2.48890338e-04 -1.48209996e-04  6.72774822e-02\n",
      "   5.20009166e-02  5.83633083e-02]]\n"
     ]
    }
   ],
   "source": [
    "# • Apply PCA before classification, see whether the results can be improved.\n",
    "from sklearn.decomposition import PCA\n",
    "\n",
    "dense_normed_x=normed_x.todense()\n",
    "c_pca =10\n",
    "pca = PCA(n_components=c_pca)\n",
    "pca.fit_transform(dense_normed_x)\n",
    "\n",
    "print(pca.components_)"
   ]
  },
  {
   "cell_type": "code",
   "execution_count": 69,
   "id": "4f579500",
   "metadata": {},
   "outputs": [
    {
     "name": "stdout",
     "output_type": "stream",
     "text": [
      "log2c=  -4.00\trate=40\n",
      "log2c=  -3.00\trate=40\n",
      "log2c=  -2.00\trate=40\n",
      "log2c=  -1.00\trate=40\n",
      "log2c=   0.00\trate=40\n",
      "log2c=   1.00\trate=40\n",
      "log2c=   2.00\trate=40\n",
      "log2c=   3.00\trate=40\n",
      "Best C = 0.0625  CV accuracy = 40%\n",
      "\n",
      "log2c=   4.00\trate=40\n",
      "log2c=   5.00\trate=40\n",
      "log2c=   6.00\trate=40\n",
      "log2c=   7.00\trate=40\n",
      "log2c=   8.00\trate=40\n",
      "log2c=   9.00\trate=40\n",
      "log2c=  10.00\trate=40\n",
      "WARNING: maximum C reached.\n",
      "init f 6.931e+00 |g| 1.581e+00\n",
      "iter  1 f 5.930e+00 |g| 4.151e-03 CG   2 step_size 1.00e+00 \n"
     ]
    }
   ],
   "source": [
    "# Apply S 0 with PCA\n",
    "spca0=train(y[:c_pca], pca.components_[:c_pca], '-C -s 0')\n",
    "mpca0=train(y[:c_pca],pca.components_[:c_pca], '-s 0'.format(spca0))\n"
   ]
  },
  {
   "cell_type": "code",
   "execution_count": 70,
   "id": "e1e01b85",
   "metadata": {},
   "outputs": [
    {
     "name": "stdout",
     "output_type": "stream",
     "text": [
      "Accuracy = 100% (10/10) (classification)\n"
     ]
    }
   ],
   "source": [
    "p_labels_pca0, p_a_pca0, p_v_pca0 = predict(y[:c_pca],pca.components_[:c_pca], mpca0)"
   ]
  },
  {
   "cell_type": "code",
   "execution_count": 71,
   "id": "a6b195fc",
   "metadata": {},
   "outputs": [
    {
     "name": "stdout",
     "output_type": "stream",
     "text": [
      "\n",
      "optimization finished, #iter = 2\n",
      "Objective value = -3.333333\n",
      "nSV = 10\n",
      "\n",
      "optimization finished, #iter = 2\n",
      "Objective value = -3.333333\n",
      "nSV = 10\n"
     ]
    }
   ],
   "source": [
    "# Apply S 1 with PCA\n",
    "spca1=train(y[:c_pca], pca.components_[:c_pca], '-s 1')\n",
    "mpca1=train(y[:c_pca],pca.components_[:c_pca], '-s 1'.format(spca1))\n"
   ]
  },
  {
   "cell_type": "code",
   "execution_count": 73,
   "id": "6c5fc36c",
   "metadata": {},
   "outputs": [
    {
     "name": "stdout",
     "output_type": "stream",
     "text": [
      "Accuracy = 100% (10/10) (classification)\n"
     ]
    }
   ],
   "source": [
    "p_labels_pca1, p_a_pca1, p_v_pca1 = predict(y[:c_pca],pca.components_[:c_pca], mpca1)"
   ]
  },
  {
   "cell_type": "code",
   "execution_count": 75,
   "id": "b56d223f",
   "metadata": {},
   "outputs": [
    {
     "name": "stdout",
     "output_type": "stream",
     "text": [
      "init f 1.000e+01 |g| 6.325e+00\n",
      "iter  1 f 3.333e+00 |g| 3.772e-03 CG   2 step_size 1.00e+00 \n",
      "init f 1.000e+01 |g| 6.325e+00\n",
      "iter  1 f 3.333e+00 |g| 3.772e-03 CG   2 step_size 1.00e+00 \n"
     ]
    }
   ],
   "source": [
    "# Apply S 2 with PCA\n",
    "spca2=train(y[:c_pca], pca.components_[:c_pca], '-s 2')\n",
    "mpca2=train(y[:c_pca],pca.components_[:c_pca], '-s 2'.format(spca2))"
   ]
  },
  {
   "cell_type": "code",
   "execution_count": 77,
   "id": "3b960d72",
   "metadata": {},
   "outputs": [
    {
     "name": "stdout",
     "output_type": "stream",
     "text": [
      "Accuracy = 100% (10/10) (classification)\n"
     ]
    }
   ],
   "source": [
    "p_labels_pca2, p_a_pca2, p_v_pca2 = predict(y[:c_pca],pca.components_[:c_pca], mpca2)"
   ]
  },
  {
   "cell_type": "code",
   "execution_count": 89,
   "id": "b9478a54",
   "metadata": {},
   "outputs": [
    {
     "name": "stdout",
     "output_type": "stream",
     "text": [
      "   SVM -s 0\n",
      "0       2.0\n",
      "1       2.0\n",
      "2       2.0\n",
      "3       1.0\n",
      "4       2.0\n",
      "   Actual Labels\n",
      "0            1.0\n",
      "1            1.0\n",
      "2            2.0\n",
      "3            2.0\n",
      "4            1.0\n"
     ]
    },
    {
     "name": "stderr",
     "output_type": "stream",
     "text": [
      "/var/folders/m6/ybyk8c014sq3zcf9tnqqpf540000gn/T/ipykernel_17140/2566431279.py:18: UserWarning: color is redundantly defined by the 'color' keyword argument and the fmt string \"ro\" (-> color='r'). The keyword argument will take precedence.\n",
      "  plt.plot(labels_s0, 'ro', color='pink')\n",
      "/var/folders/m6/ybyk8c014sq3zcf9tnqqpf540000gn/T/ipykernel_17140/2566431279.py:19: UserWarning: marker is redundantly defined by the 'marker' keyword argument and the fmt string \"ro\" (-> marker='o'). The keyword argument will take precedence.\n",
      "  plt.plot(y_dataframe, 'ro', color='blue', marker='*')\n",
      "/var/folders/m6/ybyk8c014sq3zcf9tnqqpf540000gn/T/ipykernel_17140/2566431279.py:19: UserWarning: color is redundantly defined by the 'color' keyword argument and the fmt string \"ro\" (-> color='r'). The keyword argument will take precedence.\n",
      "  plt.plot(y_dataframe, 'ro', color='blue', marker='*')\n"
     ]
    },
    {
     "data": {
      "text/plain": [
       "[<matplotlib.lines.Line2D at 0x7fd9da259370>]"
      ]
     },
     "execution_count": 89,
     "metadata": {},
     "output_type": "execute_result"
    },
    {
     "data": {
      "image/png": "[encoded data removed]",
      "text/plain": [
       "<Figure size 432x288 with 1 Axes>"
      ]
     },
     "metadata": {
      "needs_background": "light"
     },
     "output_type": "display_data"
    }
   ],
   "source": [
    "# • Visualize results in 2 dimensional space. (You may sample the data once it has too many\n",
    "# points)\n",
    "\n",
    "import pandas as pd\n",
    "from matplotlib import pyplot as plt\n",
    "\n",
    "#predicted labels by SVM -s 0\n",
    "# before PCA\n",
    "\n",
    "labels_s0 = pd.DataFrame(pred_label0)\n",
    "labels_s0 = labels_s0.rename(columns = {0:'SVM -s 0'})\n",
    "print(labels_s0.head())\n",
    "#original labels in y\n",
    "y_dataframe=pd.DataFrame(y[:10])\n",
    "y_dataframe = y_dataframe.rename(columns = {0:'Actual Labels'})\n",
    "print(y_dataframe.head())\n",
    "\n",
    "plt.plot(labels_s0, 'ro', color='pink')\n",
    "plt.plot(y_dataframe, 'ro', color='blue', marker='*')\n",
    "\n"
   ]
  },
  {
   "cell_type": "code",
   "execution_count": 95,
   "id": "d48f6628",
   "metadata": {},
   "outputs": [
    {
     "name": "stdout",
     "output_type": "stream",
     "text": [
      "   SVM PCA -s 0\n",
      "0           1.0\n",
      "1           1.0\n",
      "2           2.0\n",
      "3           2.0\n",
      "4           1.0\n",
      "   Actual Labels\n",
      "0            1.0\n",
      "1            1.0\n",
      "2            2.0\n",
      "3            2.0\n",
      "4            1.0\n"
     ]
    },
    {
     "name": "stderr",
     "output_type": "stream",
     "text": [
      "/var/folders/m6/ybyk8c014sq3zcf9tnqqpf540000gn/T/ipykernel_17140/2999468678.py:13: UserWarning: color is redundantly defined by the 'color' keyword argument and the fmt string \"ro\" (-> color='r'). The keyword argument will take precedence.\n",
      "  plt.plot(labels_s0, 'ro', color='pink')\n",
      "/var/folders/m6/ybyk8c014sq3zcf9tnqqpf540000gn/T/ipykernel_17140/2999468678.py:14: UserWarning: marker is redundantly defined by the 'marker' keyword argument and the fmt string \"ro\" (-> marker='o'). The keyword argument will take precedence.\n",
      "  plt.plot(y_dataframe, 'ro', color='blue', marker='*')\n",
      "/var/folders/m6/ybyk8c014sq3zcf9tnqqpf540000gn/T/ipykernel_17140/2999468678.py:14: UserWarning: color is redundantly defined by the 'color' keyword argument and the fmt string \"ro\" (-> color='r'). The keyword argument will take precedence.\n",
      "  plt.plot(y_dataframe, 'ro', color='blue', marker='*')\n"
     ]
    },
    {
     "data": {
      "text/plain": [
       "[<matplotlib.lines.Line2D at 0x7fd9fa2ad3d0>]"
      ]
     },
     "execution_count": 95,
     "metadata": {},
     "output_type": "execute_result"
    },
    {
     "data": {
      "image/png": "[encoded data removed]",
      "text/plain": [
       "<Figure size 432x288 with 1 Axes>"
      ]
     },
     "metadata": {
      "needs_background": "light"
     },
     "output_type": "display_data"
    }
   ],
   "source": [
    "#predicted labels by SVM -s 0\n",
    "# After PCA\n",
    "\n",
    "\n",
    "labels_s0 = pd.DataFrame(p_labels_pca0)\n",
    "labels_s0 = labels_s0.rename(columns = {0:'SVM PCA -s 0'})\n",
    "print(labels_s0.head())\n",
    "#original labels in y\n",
    "y_dataframe=pd.DataFrame(y[:10])\n",
    "y_dataframe = y_dataframe.rename(columns = {0:'Actual Labels'})\n",
    "print(y_dataframe.head())\n",
    "\n",
    "plt.plot(labels_s0, 'ro', color='pink')\n",
    "plt.plot(y_dataframe, 'ro', color='blue', marker='*')"
   ]
  },
  {
   "cell_type": "code",
   "execution_count": 93,
   "id": "c850af4c",
   "metadata": {},
   "outputs": [
    {
     "name": "stdout",
     "output_type": "stream",
     "text": [
      "   SVM -s 0\n",
      "0       2.0\n",
      "1       2.0\n",
      "2       2.0\n",
      "3       1.0\n",
      "4       1.0\n",
      "   Actual Labels\n",
      "0            1.0\n",
      "1            1.0\n",
      "2            2.0\n",
      "3            2.0\n",
      "4            1.0\n"
     ]
    },
    {
     "name": "stderr",
     "output_type": "stream",
     "text": [
      "/var/folders/m6/ybyk8c014sq3zcf9tnqqpf540000gn/T/ipykernel_17140/3459894995.py:12: UserWarning: color is redundantly defined by the 'color' keyword argument and the fmt string \"ro\" (-> color='r'). The keyword argument will take precedence.\n",
      "  plt.plot(labels_s0, 'ro', color='pink')\n",
      "/var/folders/m6/ybyk8c014sq3zcf9tnqqpf540000gn/T/ipykernel_17140/3459894995.py:13: UserWarning: marker is redundantly defined by the 'marker' keyword argument and the fmt string \"ro\" (-> marker='o'). The keyword argument will take precedence.\n",
      "  plt.plot(y_dataframe, 'ro', color='blue', marker='*')\n",
      "/var/folders/m6/ybyk8c014sq3zcf9tnqqpf540000gn/T/ipykernel_17140/3459894995.py:13: UserWarning: color is redundantly defined by the 'color' keyword argument and the fmt string \"ro\" (-> color='r'). The keyword argument will take precedence.\n",
      "  plt.plot(y_dataframe, 'ro', color='blue', marker='*')\n"
     ]
    },
    {
     "data": {
      "text/plain": [
       "[<matplotlib.lines.Line2D at 0x7fd9da494340>]"
      ]
     },
     "execution_count": 93,
     "metadata": {},
     "output_type": "execute_result"
    },
    {
     "data": {
      "image/png": "[encoded data removed]",
      "text/plain": [
       "<Figure size 432x288 with 1 Axes>"
      ]
     },
     "metadata": {
      "needs_background": "light"
     },
     "output_type": "display_data"
    }
   ],
   "source": [
    "#predicted labels by SVM -s 1\n",
    "# before PCA\n",
    "\n",
    "labels_s0 = pd.DataFrame(pred_label1)\n",
    "labels_s0 = labels_s0.rename(columns = {0:'SVM -s 1'})\n",
    "print(labels_s0.head())\n",
    "#original labels in y\n",
    "y_dataframe=pd.DataFrame(y[:10])\n",
    "y_dataframe = y_dataframe.rename(columns = {0:'Actual Labels'})\n",
    "print(y_dataframe.head())\n",
    "\n",
    "plt.plot(labels_s0, 'ro', color='pink')\n",
    "plt.plot(y_dataframe, 'ro', color='blue', marker='*')"
   ]
  },
  {
   "cell_type": "code",
   "execution_count": 96,
   "id": "f72fd793",
   "metadata": {},
   "outputs": [
    {
     "name": "stdout",
     "output_type": "stream",
     "text": [
      "   SVM -s 1\n",
      "0       1.0\n",
      "1       1.0\n",
      "2       2.0\n",
      "3       2.0\n",
      "4       1.0\n",
      "   Actual Labels\n",
      "0            1.0\n",
      "1            1.0\n",
      "2            2.0\n",
      "3            2.0\n",
      "4            1.0\n"
     ]
    },
    {
     "name": "stderr",
     "output_type": "stream",
     "text": [
      "/var/folders/m6/ybyk8c014sq3zcf9tnqqpf540000gn/T/ipykernel_17140/2505251239.py:12: UserWarning: color is redundantly defined by the 'color' keyword argument and the fmt string \"ro\" (-> color='r'). The keyword argument will take precedence.\n",
      "  plt.plot(labels_s0, 'ro', color='pink')\n",
      "/var/folders/m6/ybyk8c014sq3zcf9tnqqpf540000gn/T/ipykernel_17140/2505251239.py:13: UserWarning: marker is redundantly defined by the 'marker' keyword argument and the fmt string \"ro\" (-> marker='o'). The keyword argument will take precedence.\n",
      "  plt.plot(y_dataframe, 'ro', color='blue', marker='*')\n",
      "/var/folders/m6/ybyk8c014sq3zcf9tnqqpf540000gn/T/ipykernel_17140/2505251239.py:13: UserWarning: color is redundantly defined by the 'color' keyword argument and the fmt string \"ro\" (-> color='r'). The keyword argument will take precedence.\n",
      "  plt.plot(y_dataframe, 'ro', color='blue', marker='*')\n"
     ]
    },
    {
     "data": {
      "text/plain": [
       "[<matplotlib.lines.Line2D at 0x7fd9d09100d0>]"
      ]
     },
     "execution_count": 96,
     "metadata": {},
     "output_type": "execute_result"
    },
    {
     "data": {
      "image/png": "[encoded data removed]",
      "text/plain": [
       "<Figure size 432x288 with 1 Axes>"
      ]
     },
     "metadata": {
      "needs_background": "light"
     },
     "output_type": "display_data"
    }
   ],
   "source": [
    "#predicted labels by SVM -s 1\n",
    "# After PCA\n",
    "\n",
    "labels_s0 = pd.DataFrame(p_labels_pca1)\n",
    "labels_s0 = labels_s0.rename(columns = {0:'SVM -s 1'})\n",
    "print(labels_s0.head())\n",
    "#original labels in y\n",
    "y_dataframe=pd.DataFrame(y[:10])\n",
    "y_dataframe = y_dataframe.rename(columns = {0:'Actual Labels'})\n",
    "print(y_dataframe.head())\n",
    "\n",
    "plt.plot(labels_s0, 'ro', color='pink')\n",
    "plt.plot(y_dataframe, 'ro', color='blue', marker='*')"
   ]
  },
  {
   "cell_type": "code",
   "execution_count": 98,
   "id": "f29f275a",
   "metadata": {},
   "outputs": [
    {
     "name": "stdout",
     "output_type": "stream",
     "text": [
      "   SVM -s 2\n",
      "0       2.0\n",
      "1       2.0\n",
      "2       2.0\n",
      "3       1.0\n",
      "4       1.0\n",
      "   Actual Labels\n",
      "0            1.0\n",
      "1            1.0\n",
      "2            2.0\n",
      "3            2.0\n",
      "4            1.0\n"
     ]
    },
    {
     "name": "stderr",
     "output_type": "stream",
     "text": [
      "/var/folders/m6/ybyk8c014sq3zcf9tnqqpf540000gn/T/ipykernel_17140/2337346898.py:12: UserWarning: color is redundantly defined by the 'color' keyword argument and the fmt string \"ro\" (-> color='r'). The keyword argument will take precedence.\n",
      "  plt.plot(labels_s0, 'ro', color='pink')\n",
      "/var/folders/m6/ybyk8c014sq3zcf9tnqqpf540000gn/T/ipykernel_17140/2337346898.py:13: UserWarning: marker is redundantly defined by the 'marker' keyword argument and the fmt string \"ro\" (-> marker='o'). The keyword argument will take precedence.\n",
      "  plt.plot(y_dataframe, 'ro', color='blue', marker='*')\n",
      "/var/folders/m6/ybyk8c014sq3zcf9tnqqpf540000gn/T/ipykernel_17140/2337346898.py:13: UserWarning: color is redundantly defined by the 'color' keyword argument and the fmt string \"ro\" (-> color='r'). The keyword argument will take precedence.\n",
      "  plt.plot(y_dataframe, 'ro', color='blue', marker='*')\n"
     ]
    },
    {
     "data": {
      "text/plain": [
       "[<matplotlib.lines.Line2D at 0x7fd9da65e040>]"
      ]
     },
     "execution_count": 98,
     "metadata": {},
     "output_type": "execute_result"
    },
    {
     "data": {
      "image/png": "[encoded data removed]",
      "text/plain": [
       "<Figure size 432x288 with 1 Axes>"
      ]
     },
     "metadata": {
      "needs_background": "light"
     },
     "output_type": "display_data"
    }
   ],
   "source": [
    "#predicted labels by SVM -s 2\n",
    "# before PCA\n",
    "\n",
    "labels_s0 = pd.DataFrame(pred_label2)\n",
    "labels_s0 = labels_s0.rename(columns = {0:'SVM -s 2'})\n",
    "print(labels_s0.head())\n",
    "#original labels in y\n",
    "y_dataframe=pd.DataFrame(y[:10])\n",
    "y_dataframe = y_dataframe.rename(columns = {0:'Actual Labels'})\n",
    "print(y_dataframe.head())\n",
    "\n",
    "plt.plot(labels_s0, 'ro', color='pink')\n",
    "plt.plot(y_dataframe, 'ro', color='blue', marker='*')"
   ]
  },
  {
   "cell_type": "code",
   "execution_count": 99,
   "id": "eeda8494",
   "metadata": {},
   "outputs": [
    {
     "name": "stdout",
     "output_type": "stream",
     "text": [
      "   SVM -s 2\n",
      "0       1.0\n",
      "1       1.0\n",
      "2       2.0\n",
      "3       2.0\n",
      "4       1.0\n",
      "   Actual Labels\n",
      "0            1.0\n",
      "1            1.0\n",
      "2            2.0\n",
      "3            2.0\n",
      "4            1.0\n"
     ]
    },
    {
     "name": "stderr",
     "output_type": "stream",
     "text": [
      "/var/folders/m6/ybyk8c014sq3zcf9tnqqpf540000gn/T/ipykernel_17140/2664332280.py:12: UserWarning: color is redundantly defined by the 'color' keyword argument and the fmt string \"ro\" (-> color='r'). The keyword argument will take precedence.\n",
      "  plt.plot(labels_s0, 'ro', color='pink')\n",
      "/var/folders/m6/ybyk8c014sq3zcf9tnqqpf540000gn/T/ipykernel_17140/2664332280.py:13: UserWarning: marker is redundantly defined by the 'marker' keyword argument and the fmt string \"ro\" (-> marker='o'). The keyword argument will take precedence.\n",
      "  plt.plot(y_dataframe, 'ro', color='blue', marker='*')\n",
      "/var/folders/m6/ybyk8c014sq3zcf9tnqqpf540000gn/T/ipykernel_17140/2664332280.py:13: UserWarning: color is redundantly defined by the 'color' keyword argument and the fmt string \"ro\" (-> color='r'). The keyword argument will take precedence.\n",
      "  plt.plot(y_dataframe, 'ro', color='blue', marker='*')\n"
     ]
    },
    {
     "data": {
      "text/plain": [
       "[<matplotlib.lines.Line2D at 0x7fd9d098f2e0>]"
      ]
     },
     "execution_count": 99,
     "metadata": {},
     "output_type": "execute_result"
    },
    {
     "data": {
      "image/png": "[encoded data removed]",
      "text/plain": [
       "<Figure size 432x288 with 1 Axes>"
      ]
     },
     "metadata": {
      "needs_background": "light"
     },
     "output_type": "display_data"
    }
   ],
   "source": [
    "#predicted labels by SVM -s 2\n",
    "# After PCA\n",
    "\n",
    "labels_s0 = pd.DataFrame(p_labels_pca2)\n",
    "labels_s0 = labels_s0.rename(columns = {0:'SVM -s 2'})\n",
    "print(labels_s0.head())\n",
    "#original labels in y\n",
    "y_dataframe=pd.DataFrame(y[:10])\n",
    "y_dataframe = y_dataframe.rename(columns = {0:'Actual Labels'})\n",
    "print(y_dataframe.head())\n",
    "\n",
    "plt.plot(labels_s0, 'ro', color='pink')\n",
    "plt.plot(y_dataframe, 'ro', color='blue', marker='*')"
   ]
  }
 ],
 "metadata": {
  "kernelspec": {
   "display_name": "Python 3 (ipykernel)",
   "language": "python",
   "name": "python3"
  },
  "language_info": {
   "codemirror_mode": {
    "name": "ipython",
    "version": 3
   },
   "file_extension": ".py",
   "mimetype": "text/x-python",
   "name": "python",
   "nbconvert_exporter": "python",
   "pygments_lexer": "ipython3",
   "version": "3.9.12"
  }
 },
 "nbformat": 4,
 "nbformat_minor": 5
}
